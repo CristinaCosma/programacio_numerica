{
 "cells": [
  {
   "cell_type": "markdown",
   "id": "8603c5f2-e1b4-4027-99b1-dffbf4b27156",
   "metadata": {},
   "source": [
    "##### Cristina Cosma\n",
    "# **DATA SCIENCE**\n",
    "\n",
    "## Tasca M3 T01 - Programació numèrica amb dataframes i estadística descriptiva :  Numpy, Pandas, Lambda \n",
    "\n",
    "* Aplicar la programació numèrica amb la llibreria NumPy.\n",
    "* Treballar amb dataframes amb la llibreria Pandas.\n",
    "* Realitzar anàlisis estadístics bàsics a Python."
   ]
  },
  {
   "cell_type": "markdown",
   "id": "db1dae75-7b57-4d3f-8ff3-ddb963f68fb6",
   "metadata": {},
   "source": [
    "#### **EXERCICI 1**\n",
    "**Donat el següent dataframe data = {\"Col1\": [50, 30, 10, 40, 20]}, ordena els valors en ordre ascendent (a) i en ordre descendent (b)**\n",
    "  "
   ]
  },
  {
   "cell_type": "code",
   "execution_count": 143,
   "id": "8ddb4280-cbb7-4acb-8d2b-b880c8bb0318",
   "metadata": {},
   "outputs": [
    {
     "data": {
      "text/html": [
       "<div>\n",
       "<style scoped>\n",
       "    .dataframe tbody tr th:only-of-type {\n",
       "        vertical-align: middle;\n",
       "    }\n",
       "\n",
       "    .dataframe tbody tr th {\n",
       "        vertical-align: top;\n",
       "    }\n",
       "\n",
       "    .dataframe thead th {\n",
       "        text-align: right;\n",
       "    }\n",
       "</style>\n",
       "<table border=\"1\" class=\"dataframe\">\n",
       "  <thead>\n",
       "    <tr style=\"text-align: right;\">\n",
       "      <th></th>\n",
       "      <th>Col1</th>\n",
       "    </tr>\n",
       "  </thead>\n",
       "  <tbody>\n",
       "    <tr>\n",
       "      <th>0</th>\n",
       "      <td>50</td>\n",
       "    </tr>\n",
       "    <tr>\n",
       "      <th>1</th>\n",
       "      <td>30</td>\n",
       "    </tr>\n",
       "    <tr>\n",
       "      <th>2</th>\n",
       "      <td>10</td>\n",
       "    </tr>\n",
       "    <tr>\n",
       "      <th>3</th>\n",
       "      <td>40</td>\n",
       "    </tr>\n",
       "    <tr>\n",
       "      <th>4</th>\n",
       "      <td>20</td>\n",
       "    </tr>\n",
       "  </tbody>\n",
       "</table>\n",
       "</div>"
      ],
      "text/plain": [
       "   Col1\n",
       "0    50\n",
       "1    30\n",
       "2    10\n",
       "3    40\n",
       "4    20"
      ]
     },
     "execution_count": 143,
     "metadata": {},
     "output_type": "execute_result"
    }
   ],
   "source": [
    "import pandas as pd\n",
    "\n",
    "data = {\"Col1\": [50, 30, 10, 40, 20]}\n",
    "df=pd.DataFrame(data)\n",
    "df\n",
    "# Primero se muestra el Data Frame en columnas con los datos tal como vienen"
   ]
  },
  {
   "cell_type": "markdown",
   "id": "c57c8a2f-741b-4b4e-96c8-e762bd87aa1a",
   "metadata": {
    "tags": []
   },
   "source": [
    "*Solució a):* __Ordenamos el Dataframe de manera ASCENDENTE :__"
   ]
  },
  {
   "cell_type": "code",
   "execution_count": 144,
   "id": "0f7c2091-a980-4ed7-961d-403b1ff0c5d9",
   "metadata": {},
   "outputs": [
    {
     "data": {
      "text/html": [
       "<div>\n",
       "<style scoped>\n",
       "    .dataframe tbody tr th:only-of-type {\n",
       "        vertical-align: middle;\n",
       "    }\n",
       "\n",
       "    .dataframe tbody tr th {\n",
       "        vertical-align: top;\n",
       "    }\n",
       "\n",
       "    .dataframe thead th {\n",
       "        text-align: right;\n",
       "    }\n",
       "</style>\n",
       "<table border=\"1\" class=\"dataframe\">\n",
       "  <thead>\n",
       "    <tr style=\"text-align: right;\">\n",
       "      <th></th>\n",
       "      <th>Col1</th>\n",
       "    </tr>\n",
       "  </thead>\n",
       "  <tbody>\n",
       "    <tr>\n",
       "      <th>2</th>\n",
       "      <td>10</td>\n",
       "    </tr>\n",
       "    <tr>\n",
       "      <th>4</th>\n",
       "      <td>20</td>\n",
       "    </tr>\n",
       "    <tr>\n",
       "      <th>1</th>\n",
       "      <td>30</td>\n",
       "    </tr>\n",
       "    <tr>\n",
       "      <th>3</th>\n",
       "      <td>40</td>\n",
       "    </tr>\n",
       "    <tr>\n",
       "      <th>0</th>\n",
       "      <td>50</td>\n",
       "    </tr>\n",
       "  </tbody>\n",
       "</table>\n",
       "</div>"
      ],
      "text/plain": [
       "   Col1\n",
       "2    10\n",
       "4    20\n",
       "1    30\n",
       "3    40\n",
       "0    50"
      ]
     },
     "execution_count": 144,
     "metadata": {},
     "output_type": "execute_result"
    }
   ],
   "source": [
    "data_asc=df.sort_values(by=\"Col1\", ascending=True)\n",
    "data_asc"
   ]
  },
  {
   "cell_type": "markdown",
   "id": "35d1a809-c84a-4dd1-afba-f01f00d1200a",
   "metadata": {
    "tags": []
   },
   "source": [
    "*Solució b):* __Ordenamos el Dataframe de manera DESCENDENTE :__"
   ]
  },
  {
   "cell_type": "code",
   "execution_count": 145,
   "id": "7536df78-f4ef-4205-b56a-dd080a93d252",
   "metadata": {},
   "outputs": [
    {
     "data": {
      "text/html": [
       "<div>\n",
       "<style scoped>\n",
       "    .dataframe tbody tr th:only-of-type {\n",
       "        vertical-align: middle;\n",
       "    }\n",
       "\n",
       "    .dataframe tbody tr th {\n",
       "        vertical-align: top;\n",
       "    }\n",
       "\n",
       "    .dataframe thead th {\n",
       "        text-align: right;\n",
       "    }\n",
       "</style>\n",
       "<table border=\"1\" class=\"dataframe\">\n",
       "  <thead>\n",
       "    <tr style=\"text-align: right;\">\n",
       "      <th></th>\n",
       "      <th>Col1</th>\n",
       "    </tr>\n",
       "  </thead>\n",
       "  <tbody>\n",
       "    <tr>\n",
       "      <th>0</th>\n",
       "      <td>50</td>\n",
       "    </tr>\n",
       "    <tr>\n",
       "      <th>3</th>\n",
       "      <td>40</td>\n",
       "    </tr>\n",
       "    <tr>\n",
       "      <th>1</th>\n",
       "      <td>30</td>\n",
       "    </tr>\n",
       "    <tr>\n",
       "      <th>4</th>\n",
       "      <td>20</td>\n",
       "    </tr>\n",
       "    <tr>\n",
       "      <th>2</th>\n",
       "      <td>10</td>\n",
       "    </tr>\n",
       "  </tbody>\n",
       "</table>\n",
       "</div>"
      ],
      "text/plain": [
       "   Col1\n",
       "0    50\n",
       "3    40\n",
       "1    30\n",
       "4    20\n",
       "2    10"
      ]
     },
     "execution_count": 145,
     "metadata": {},
     "output_type": "execute_result"
    }
   ],
   "source": [
    "data_desc=df.sort_values(by=\"Col1\", ascending=False)\n",
    "data_desc"
   ]
  },
  {
   "cell_type": "markdown",
   "id": "4d9352f1-893b-4d19-a593-1fbc3d78db51",
   "metadata": {},
   "source": [
    "#### **EXERCICI 2**\n",
    "**Donat el següent dataframe data = {\"Col1\": [50, 30, 10, 40, 20]}, filtra els valors   \n",
    "que siguin més grans que 30.**\n",
    "  "
   ]
  },
  {
   "cell_type": "code",
   "execution_count": 146,
   "id": "a36c7af7-f779-4235-bb88-a3416dbb83cf",
   "metadata": {},
   "outputs": [
    {
     "data": {
      "text/html": [
       "<div>\n",
       "<style scoped>\n",
       "    .dataframe tbody tr th:only-of-type {\n",
       "        vertical-align: middle;\n",
       "    }\n",
       "\n",
       "    .dataframe tbody tr th {\n",
       "        vertical-align: top;\n",
       "    }\n",
       "\n",
       "    .dataframe thead th {\n",
       "        text-align: right;\n",
       "    }\n",
       "</style>\n",
       "<table border=\"1\" class=\"dataframe\">\n",
       "  <thead>\n",
       "    <tr style=\"text-align: right;\">\n",
       "      <th></th>\n",
       "      <th>Col1</th>\n",
       "    </tr>\n",
       "  </thead>\n",
       "  <tbody>\n",
       "    <tr>\n",
       "      <th>0</th>\n",
       "      <td>50</td>\n",
       "    </tr>\n",
       "    <tr>\n",
       "      <th>1</th>\n",
       "      <td>30</td>\n",
       "    </tr>\n",
       "    <tr>\n",
       "      <th>2</th>\n",
       "      <td>10</td>\n",
       "    </tr>\n",
       "    <tr>\n",
       "      <th>3</th>\n",
       "      <td>40</td>\n",
       "    </tr>\n",
       "    <tr>\n",
       "      <th>4</th>\n",
       "      <td>20</td>\n",
       "    </tr>\n",
       "  </tbody>\n",
       "</table>\n",
       "</div>"
      ],
      "text/plain": [
       "   Col1\n",
       "0    50\n",
       "1    30\n",
       "2    10\n",
       "3    40\n",
       "4    20"
      ]
     },
     "execution_count": 146,
     "metadata": {},
     "output_type": "execute_result"
    }
   ],
   "source": [
    "data = {\"Col1\": [50, 30, 10, 40, 20]}\n",
    "df=pd.DataFrame(data)\n",
    "df\n",
    "# Primero se muestra el Data Frame en columnas con los datos tal como vienen"
   ]
  },
  {
   "cell_type": "markdown",
   "id": "f64445fb-40e3-42f8-93cf-70494bbb2113",
   "metadata": {
    "tags": []
   },
   "source": [
    "*Solució :* __Els valors más grans de 30 son 40 i 50__"
   ]
  },
  {
   "cell_type": "code",
   "execution_count": 147,
   "id": "f61edf44-4acb-4fd6-9f42-b08bd16b226c",
   "metadata": {},
   "outputs": [
    {
     "data": {
      "text/html": [
       "<div>\n",
       "<style scoped>\n",
       "    .dataframe tbody tr th:only-of-type {\n",
       "        vertical-align: middle;\n",
       "    }\n",
       "\n",
       "    .dataframe tbody tr th {\n",
       "        vertical-align: top;\n",
       "    }\n",
       "\n",
       "    .dataframe thead th {\n",
       "        text-align: right;\n",
       "    }\n",
       "</style>\n",
       "<table border=\"1\" class=\"dataframe\">\n",
       "  <thead>\n",
       "    <tr style=\"text-align: right;\">\n",
       "      <th></th>\n",
       "      <th>Col1</th>\n",
       "    </tr>\n",
       "  </thead>\n",
       "  <tbody>\n",
       "    <tr>\n",
       "      <th>0</th>\n",
       "      <td>50</td>\n",
       "    </tr>\n",
       "    <tr>\n",
       "      <th>3</th>\n",
       "      <td>40</td>\n",
       "    </tr>\n",
       "  </tbody>\n",
       "</table>\n",
       "</div>"
      ],
      "text/plain": [
       "   Col1\n",
       "0    50\n",
       "3    40"
      ]
     },
     "execution_count": 147,
     "metadata": {},
     "output_type": "execute_result"
    }
   ],
   "source": [
    "df_mayor_30 = df[df['Col1'] > 30]\n",
    "df_mayor_30"
   ]
  },
  {
   "cell_type": "markdown",
   "id": "1ac0d152-bc58-4340-90f9-26a13c5b5f53",
   "metadata": {},
   "source": [
    "#### **EXERCICI 3**\n",
    "**Donat el següent dataframe data = {\"Col1\": [50, 30, 10, 40, 10]}, comptabilitza els valors únics**\n",
    "  "
   ]
  },
  {
   "cell_type": "markdown",
   "id": "c1b65502-fbd3-4790-a4cb-7d1017f17305",
   "metadata": {
    "tags": []
   },
   "source": [
    "*Solució a) :* __El número total de valors únics es de 4__"
   ]
  },
  {
   "cell_type": "code",
   "execution_count": 148,
   "id": "11125446-18c2-4427-95f0-00b6241dcc45",
   "metadata": {},
   "outputs": [
    {
     "data": {
      "text/plain": [
       "Col1    4\n",
       "dtype: int64"
      ]
     },
     "execution_count": 148,
     "metadata": {},
     "output_type": "execute_result"
    }
   ],
   "source": [
    "# (per motius práctics i evitar confusió canviaré el nom de \"data\" per \"data_3\" (del exercici 3))\n",
    "\n",
    "data_3 = {\"Col1\": [50, 30, 10, 40, 10]}\n",
    "df_3=pd.DataFrame(data_3)\n",
    "df_3.nunique()\n"
   ]
  },
  {
   "cell_type": "markdown",
   "id": "cf443726-305b-4b7b-b296-3fa88007b3a0",
   "metadata": {
    "tags": []
   },
   "source": [
    "*Solució b):* __Veiem quantes vegades es repeteix cada valor únic : el 10 té 2 ocurrències (aparicions) i els altres números en tenen una sola__"
   ]
  },
  {
   "cell_type": "code",
   "execution_count": 149,
   "id": "55058e5e-9b24-41a5-8e40-933857ece9db",
   "metadata": {},
   "outputs": [
    {
     "data": {
      "text/plain": [
       "Col1\n",
       "10      2\n",
       "30      1\n",
       "40      1\n",
       "50      1\n",
       "dtype: int64"
      ]
     },
     "execution_count": 149,
     "metadata": {},
     "output_type": "execute_result"
    }
   ],
   "source": [
    "data_3 = {\"Col1\": [50, 30, 10, 40, 10]}\n",
    "df_3=pd.DataFrame(data_3)\n",
    "df_3.value_counts()\n"
   ]
  },
  {
   "cell_type": "markdown",
   "id": "48c884da-d9f0-42f9-acf7-354f0fedb8d0",
   "metadata": {},
   "source": [
    "#### **EXERCICI 4**\n",
    "**Donat el següent dataframe data = {'Grup': ['A', 'B', 'A', 'B', 'A'], 'Col1': [10, 20, 30, 40, 50]}, \n",
    "suma les dades que pertanyen a la mateixa columna.**\n",
    "  "
   ]
  },
  {
   "cell_type": "code",
   "execution_count": 150,
   "id": "8714d3ac-cad1-42a5-bb51-c6b02458e460",
   "metadata": {},
   "outputs": [
    {
     "data": {
      "text/html": [
       "<div>\n",
       "<style scoped>\n",
       "    .dataframe tbody tr th:only-of-type {\n",
       "        vertical-align: middle;\n",
       "    }\n",
       "\n",
       "    .dataframe tbody tr th {\n",
       "        vertical-align: top;\n",
       "    }\n",
       "\n",
       "    .dataframe thead th {\n",
       "        text-align: right;\n",
       "    }\n",
       "</style>\n",
       "<table border=\"1\" class=\"dataframe\">\n",
       "  <thead>\n",
       "    <tr style=\"text-align: right;\">\n",
       "      <th></th>\n",
       "      <th>Grup</th>\n",
       "      <th>Col1</th>\n",
       "    </tr>\n",
       "  </thead>\n",
       "  <tbody>\n",
       "    <tr>\n",
       "      <th>0</th>\n",
       "      <td>A</td>\n",
       "      <td>10</td>\n",
       "    </tr>\n",
       "    <tr>\n",
       "      <th>1</th>\n",
       "      <td>B</td>\n",
       "      <td>20</td>\n",
       "    </tr>\n",
       "    <tr>\n",
       "      <th>2</th>\n",
       "      <td>A</td>\n",
       "      <td>30</td>\n",
       "    </tr>\n",
       "    <tr>\n",
       "      <th>3</th>\n",
       "      <td>B</td>\n",
       "      <td>40</td>\n",
       "    </tr>\n",
       "    <tr>\n",
       "      <th>4</th>\n",
       "      <td>A</td>\n",
       "      <td>50</td>\n",
       "    </tr>\n",
       "  </tbody>\n",
       "</table>\n",
       "</div>"
      ],
      "text/plain": [
       "  Grup  Col1\n",
       "0    A    10\n",
       "1    B    20\n",
       "2    A    30\n",
       "3    B    40\n",
       "4    A    50"
      ]
     },
     "execution_count": 150,
     "metadata": {},
     "output_type": "execute_result"
    }
   ],
   "source": [
    "# (per motius práctics i evitar confusió canviaré el nom de \"data\" per \"data_4\" (del exercici 4))\n",
    "\n",
    "data_4 = {'Grup': ['A', 'B', 'A', 'B', 'A'], 'Col1': [10, 20, 30, 40, 50]}\n",
    "df_4=pd.DataFrame(data_4)\n",
    "df_4\n"
   ]
  },
  {
   "cell_type": "markdown",
   "id": "57872954-7ff5-4c2f-bc6d-b1ac7b4bc2b3",
   "metadata": {
    "tags": []
   },
   "source": [
    "*Solució a):* __El total de la columna de datos numéricos \"Col1\" és de 150.__"
   ]
  },
  {
   "cell_type": "code",
   "execution_count": 151,
   "id": "ae758ae3-1297-4873-abf2-412575bbc64a",
   "metadata": {},
   "outputs": [
    {
     "data": {
      "text/plain": [
       "150"
      ]
     },
     "execution_count": 151,
     "metadata": {},
     "output_type": "execute_result"
    }
   ],
   "source": [
    "# aquí veiem el resultat de la suma només per la columna numèrica\n",
    "\n",
    "df_4['Col1'].sum()"
   ]
  },
  {
   "cell_type": "markdown",
   "id": "1604ef59-e8d3-4117-ba82-e306bafbe146",
   "metadata": {
    "tags": []
   },
   "source": [
    "*Solució b):* __El total de la columna de strigs \"Grup\" és ABABA i el de la columna \"Col1\" és de 150.__"
   ]
  },
  {
   "cell_type": "code",
   "execution_count": 152,
   "id": "92268d77-81b3-4555-8c8a-25187ce7d1a4",
   "metadata": {},
   "outputs": [
    {
     "data": {
      "text/plain": [
       "Grup    ABABA\n",
       "Col1      150\n",
       "dtype: object"
      ]
     },
     "execution_count": 152,
     "metadata": {},
     "output_type": "execute_result"
    }
   ],
   "source": [
    "# aquí veiem el resultat de la suma de cada columna.\n",
    "df_4.sum()\n"
   ]
  },
  {
   "cell_type": "markdown",
   "id": "323f2835-f761-4339-8f33-51c68e90ad53",
   "metadata": {
    "tags": []
   },
   "source": [
    "#### **EXERCICI 5**\n",
    "**Donat el següent dataframe data = {'Grup': ['A', 'B', 'A', 'B', 'A'], 'Col1': [10, 20, 30, 40, 50]}, \n",
    "crea una columna nova ‘Col2’ que sigui 2 si és superior al percentil 75% de la ‘Col1’, 0 si és inferior al 25% del percentil de la columna ‘Col1’ i 1 si cau entremig.**\n",
    "  "
   ]
  },
  {
   "cell_type": "code",
   "execution_count": 153,
   "id": "0a791d0f-07b9-492b-a0c8-8db8347adb84",
   "metadata": {},
   "outputs": [
    {
     "data": {
      "text/html": [
       "<div>\n",
       "<style scoped>\n",
       "    .dataframe tbody tr th:only-of-type {\n",
       "        vertical-align: middle;\n",
       "    }\n",
       "\n",
       "    .dataframe tbody tr th {\n",
       "        vertical-align: top;\n",
       "    }\n",
       "\n",
       "    .dataframe thead th {\n",
       "        text-align: right;\n",
       "    }\n",
       "</style>\n",
       "<table border=\"1\" class=\"dataframe\">\n",
       "  <thead>\n",
       "    <tr style=\"text-align: right;\">\n",
       "      <th></th>\n",
       "      <th>Grup</th>\n",
       "      <th>Col1</th>\n",
       "    </tr>\n",
       "  </thead>\n",
       "  <tbody>\n",
       "    <tr>\n",
       "      <th>0</th>\n",
       "      <td>A</td>\n",
       "      <td>10</td>\n",
       "    </tr>\n",
       "    <tr>\n",
       "      <th>1</th>\n",
       "      <td>B</td>\n",
       "      <td>20</td>\n",
       "    </tr>\n",
       "    <tr>\n",
       "      <th>2</th>\n",
       "      <td>A</td>\n",
       "      <td>30</td>\n",
       "    </tr>\n",
       "    <tr>\n",
       "      <th>3</th>\n",
       "      <td>B</td>\n",
       "      <td>40</td>\n",
       "    </tr>\n",
       "    <tr>\n",
       "      <th>4</th>\n",
       "      <td>A</td>\n",
       "      <td>50</td>\n",
       "    </tr>\n",
       "  </tbody>\n",
       "</table>\n",
       "</div>"
      ],
      "text/plain": [
       "  Grup  Col1\n",
       "0    A    10\n",
       "1    B    20\n",
       "2    A    30\n",
       "3    B    40\n",
       "4    A    50"
      ]
     },
     "execution_count": 153,
     "metadata": {},
     "output_type": "execute_result"
    }
   ],
   "source": [
    "# (per motius práctics i evitar confusió canviaré el nom de \"data\" per \"data_5\" (del exercici 5))\n",
    "\n",
    "data_5 = {'Grup': ['A', 'B', 'A', 'B', 'A'], 'Col1': [10, 20, 30, 40, 50]}\n",
    "df_5=pd.DataFrame(data_5)\n",
    "df_5"
   ]
  },
  {
   "cell_type": "markdown",
   "id": "eaac2268-ad62-488a-9fd3-2b715ae40793",
   "metadata": {
    "tags": []
   },
   "source": [
    "*Solució :* __Part 1 - comprobar els percentils amb dos algorítmes : \"percentileofscore()\" i \"np.percentile()\"__"
   ]
  },
  {
   "cell_type": "code",
   "execution_count": 154,
   "id": "503f76a8-5977-4276-be2f-85979df1cfcd",
   "metadata": {},
   "outputs": [
    {
     "data": {
      "text/html": [
       "<div>\n",
       "<style scoped>\n",
       "    .dataframe tbody tr th:only-of-type {\n",
       "        vertical-align: middle;\n",
       "    }\n",
       "\n",
       "    .dataframe tbody tr th {\n",
       "        vertical-align: top;\n",
       "    }\n",
       "\n",
       "    .dataframe thead th {\n",
       "        text-align: right;\n",
       "    }\n",
       "</style>\n",
       "<table border=\"1\" class=\"dataframe\">\n",
       "  <thead>\n",
       "    <tr style=\"text-align: right;\">\n",
       "      <th></th>\n",
       "      <th>Grup</th>\n",
       "      <th>Col1</th>\n",
       "      <th>percentile</th>\n",
       "    </tr>\n",
       "  </thead>\n",
       "  <tbody>\n",
       "    <tr>\n",
       "      <th>0</th>\n",
       "      <td>A</td>\n",
       "      <td>10</td>\n",
       "      <td>0.0</td>\n",
       "    </tr>\n",
       "    <tr>\n",
       "      <th>1</th>\n",
       "      <td>B</td>\n",
       "      <td>20</td>\n",
       "      <td>20.0</td>\n",
       "    </tr>\n",
       "    <tr>\n",
       "      <th>2</th>\n",
       "      <td>A</td>\n",
       "      <td>30</td>\n",
       "      <td>40.0</td>\n",
       "    </tr>\n",
       "    <tr>\n",
       "      <th>3</th>\n",
       "      <td>B</td>\n",
       "      <td>40</td>\n",
       "      <td>60.0</td>\n",
       "    </tr>\n",
       "    <tr>\n",
       "      <th>4</th>\n",
       "      <td>A</td>\n",
       "      <td>50</td>\n",
       "      <td>80.0</td>\n",
       "    </tr>\n",
       "  </tbody>\n",
       "</table>\n",
       "</div>"
      ],
      "text/plain": [
       "  Grup  Col1  percentile\n",
       "0    A    10         0.0\n",
       "1    B    20        20.0\n",
       "2    A    30        40.0\n",
       "3    B    40        60.0\n",
       "4    A    50        80.0"
      ]
     },
     "execution_count": 154,
     "metadata": {},
     "output_type": "execute_result"
    }
   ],
   "source": [
    "from scipy.stats import percentileofscore\n",
    "\n",
    "# creación de una columna de comprobación temporal para vizualizar los percentiles:\n",
    "df_5['percentile'] = [percentileofscore(df_5['Col1'], value, kind='strict') for value in df_5['Col1']]\n",
    "df_5"
   ]
  },
  {
   "cell_type": "code",
   "execution_count": 155,
   "id": "3a63011a-6321-4641-a9dd-73e1f7908581",
   "metadata": {},
   "outputs": [
    {
     "name": "stdout",
     "output_type": "stream",
     "text": [
      "40.0\n",
      "20.0\n"
     ]
    }
   ],
   "source": [
    "# comprobando que el percentil da el mismo resultado con ambos algorítmos\n",
    "# percentileofscore() VS np.percentile()\n",
    "import numpy as np\n",
    "\n",
    "print(np.percentile(df_5['Col1'], 75))\n",
    "print(np.percentile(df_5['Col1'], 25))"
   ]
  },
  {
   "cell_type": "markdown",
   "id": "593b7763-6585-4316-acf3-20a548798266",
   "metadata": {},
   "source": [
    "*Solució :* __Part 2 - crear una variable de tipus llista on enmagatzenar els elements de la futura columna \"Col2\" crear la nova columna, integrar-la al dataframe__"
   ]
  },
  {
   "cell_type": "code",
   "execution_count": 156,
   "id": "57cf8991-b733-4e83-b2e7-25c7790f1aa8",
   "metadata": {},
   "outputs": [
    {
     "data": {
      "text/plain": [
       "[0, 1, 1, 1, 2]"
      ]
     },
     "execution_count": 156,
     "metadata": {},
     "output_type": "execute_result"
    }
   ],
   "source": [
    "Col2=[]\n",
    "\n",
    "for x in df_5['Col1']:\n",
    "    if x > np.percentile(df_5['Col1'], 75) :\n",
    "        Col2.append(2)\n",
    "    elif x < np.percentile(df_5['Col1'], 25) :\n",
    "        Col2.append(0)   \n",
    "    else:\n",
    "        Col2.append(1)\n",
    "Col2"
   ]
  },
  {
   "cell_type": "code",
   "execution_count": 157,
   "id": "c0e65f2f-3607-48b0-8f88-08bc1f571d0a",
   "metadata": {},
   "outputs": [],
   "source": [
    "df_5['Col2']=Col2\n",
    "\n",
    "# borrando la columna de comprobación para el resultado final:\n",
    "df_5 = df_5.drop('percentile', axis=1) \n"
   ]
  },
  {
   "cell_type": "markdown",
   "id": "1236d952-53ce-4b91-8f27-8fc39e432cc6",
   "metadata": {},
   "source": [
    "*Solució :* __Part 3 - finalment, veure el dataframe amb només les dades que es demanen__"
   ]
  },
  {
   "cell_type": "code",
   "execution_count": 158,
   "id": "960137de-daf6-4725-9a14-e1d89df953d8",
   "metadata": {},
   "outputs": [
    {
     "data": {
      "text/html": [
       "<div>\n",
       "<style scoped>\n",
       "    .dataframe tbody tr th:only-of-type {\n",
       "        vertical-align: middle;\n",
       "    }\n",
       "\n",
       "    .dataframe tbody tr th {\n",
       "        vertical-align: top;\n",
       "    }\n",
       "\n",
       "    .dataframe thead th {\n",
       "        text-align: right;\n",
       "    }\n",
       "</style>\n",
       "<table border=\"1\" class=\"dataframe\">\n",
       "  <thead>\n",
       "    <tr style=\"text-align: right;\">\n",
       "      <th></th>\n",
       "      <th>Grup</th>\n",
       "      <th>Col1</th>\n",
       "      <th>Col2</th>\n",
       "    </tr>\n",
       "  </thead>\n",
       "  <tbody>\n",
       "    <tr>\n",
       "      <th>0</th>\n",
       "      <td>A</td>\n",
       "      <td>10</td>\n",
       "      <td>0</td>\n",
       "    </tr>\n",
       "    <tr>\n",
       "      <th>1</th>\n",
       "      <td>B</td>\n",
       "      <td>20</td>\n",
       "      <td>1</td>\n",
       "    </tr>\n",
       "    <tr>\n",
       "      <th>2</th>\n",
       "      <td>A</td>\n",
       "      <td>30</td>\n",
       "      <td>1</td>\n",
       "    </tr>\n",
       "    <tr>\n",
       "      <th>3</th>\n",
       "      <td>B</td>\n",
       "      <td>40</td>\n",
       "      <td>1</td>\n",
       "    </tr>\n",
       "    <tr>\n",
       "      <th>4</th>\n",
       "      <td>A</td>\n",
       "      <td>50</td>\n",
       "      <td>2</td>\n",
       "    </tr>\n",
       "  </tbody>\n",
       "</table>\n",
       "</div>"
      ],
      "text/plain": [
       "  Grup  Col1  Col2\n",
       "0    A    10     0\n",
       "1    B    20     1\n",
       "2    A    30     1\n",
       "3    B    40     1\n",
       "4    A    50     2"
      ]
     },
     "execution_count": 158,
     "metadata": {},
     "output_type": "execute_result"
    }
   ],
   "source": [
    "df_5"
   ]
  },
  {
   "cell_type": "markdown",
   "id": "61a34eb5-5503-499f-af92-dad9008f0b6b",
   "metadata": {
    "tags": []
   },
   "source": [
    "#### **EXERCICI 6**\n",
    "**Donat el següent dataframe data = {'Grup': ['A', 'B', 'A', 'B', 'A'], 'Col1': [10, 20, 30, 40, 50]}, aplica lambda per obtenir el quadrat de la columna ‘Col1’ en una nova columna.**\n",
    "  "
   ]
  },
  {
   "cell_type": "code",
   "execution_count": 159,
   "id": "b8bb1513-3b25-4ced-93c5-9f13eea96616",
   "metadata": {},
   "outputs": [
    {
     "data": {
      "text/html": [
       "<div>\n",
       "<style scoped>\n",
       "    .dataframe tbody tr th:only-of-type {\n",
       "        vertical-align: middle;\n",
       "    }\n",
       "\n",
       "    .dataframe tbody tr th {\n",
       "        vertical-align: top;\n",
       "    }\n",
       "\n",
       "    .dataframe thead th {\n",
       "        text-align: right;\n",
       "    }\n",
       "</style>\n",
       "<table border=\"1\" class=\"dataframe\">\n",
       "  <thead>\n",
       "    <tr style=\"text-align: right;\">\n",
       "      <th></th>\n",
       "      <th>Grup</th>\n",
       "      <th>Col1</th>\n",
       "      <th>Col2</th>\n",
       "    </tr>\n",
       "  </thead>\n",
       "  <tbody>\n",
       "    <tr>\n",
       "      <th>0</th>\n",
       "      <td>A</td>\n",
       "      <td>10</td>\n",
       "      <td>100</td>\n",
       "    </tr>\n",
       "    <tr>\n",
       "      <th>1</th>\n",
       "      <td>B</td>\n",
       "      <td>20</td>\n",
       "      <td>400</td>\n",
       "    </tr>\n",
       "    <tr>\n",
       "      <th>2</th>\n",
       "      <td>A</td>\n",
       "      <td>30</td>\n",
       "      <td>900</td>\n",
       "    </tr>\n",
       "    <tr>\n",
       "      <th>3</th>\n",
       "      <td>B</td>\n",
       "      <td>40</td>\n",
       "      <td>1600</td>\n",
       "    </tr>\n",
       "    <tr>\n",
       "      <th>4</th>\n",
       "      <td>A</td>\n",
       "      <td>50</td>\n",
       "      <td>2500</td>\n",
       "    </tr>\n",
       "  </tbody>\n",
       "</table>\n",
       "</div>"
      ],
      "text/plain": [
       "  Grup  Col1  Col2\n",
       "0    A    10   100\n",
       "1    B    20   400\n",
       "2    A    30   900\n",
       "3    B    40  1600\n",
       "4    A    50  2500"
      ]
     },
     "execution_count": 159,
     "metadata": {},
     "output_type": "execute_result"
    }
   ],
   "source": [
    "# amb Lambda\n",
    "import pandas as pd\n",
    "\n",
    "# dataframe : tenint cura de posar () al voltant del {dictionari} abans d'executar la funció \".apply\"\n",
    "\n",
    "data_6 = pd.DataFrame({'Grup': ['A', 'B', 'A', 'B', 'A'], 'Col1': [10, 20, 30, 40, 50]})\n",
    "    \n",
    "data_6['Col2'] = data_6.apply(lambda i: i['Col1']**2, axis=1)\n",
    "data_6"
   ]
  },
  {
   "cell_type": "code",
   "execution_count": 160,
   "id": "500920a3-860d-41a8-b9ab-1f2264fe2174",
   "metadata": {},
   "outputs": [
    {
     "data": {
      "text/html": [
       "<div>\n",
       "<style scoped>\n",
       "    .dataframe tbody tr th:only-of-type {\n",
       "        vertical-align: middle;\n",
       "    }\n",
       "\n",
       "    .dataframe tbody tr th {\n",
       "        vertical-align: top;\n",
       "    }\n",
       "\n",
       "    .dataframe thead th {\n",
       "        text-align: right;\n",
       "    }\n",
       "</style>\n",
       "<table border=\"1\" class=\"dataframe\">\n",
       "  <thead>\n",
       "    <tr style=\"text-align: right;\">\n",
       "      <th></th>\n",
       "      <th>Grup</th>\n",
       "      <th>Col1</th>\n",
       "      <th>Col2</th>\n",
       "    </tr>\n",
       "  </thead>\n",
       "  <tbody>\n",
       "    <tr>\n",
       "      <th>0</th>\n",
       "      <td>A</td>\n",
       "      <td>10</td>\n",
       "      <td>100</td>\n",
       "    </tr>\n",
       "    <tr>\n",
       "      <th>1</th>\n",
       "      <td>B</td>\n",
       "      <td>20</td>\n",
       "      <td>400</td>\n",
       "    </tr>\n",
       "    <tr>\n",
       "      <th>2</th>\n",
       "      <td>A</td>\n",
       "      <td>30</td>\n",
       "      <td>900</td>\n",
       "    </tr>\n",
       "    <tr>\n",
       "      <th>3</th>\n",
       "      <td>B</td>\n",
       "      <td>40</td>\n",
       "      <td>1600</td>\n",
       "    </tr>\n",
       "    <tr>\n",
       "      <th>4</th>\n",
       "      <td>A</td>\n",
       "      <td>50</td>\n",
       "      <td>2500</td>\n",
       "    </tr>\n",
       "  </tbody>\n",
       "</table>\n",
       "</div>"
      ],
      "text/plain": [
       "  Grup  Col1  Col2\n",
       "0    A    10   100\n",
       "1    B    20   400\n",
       "2    A    30   900\n",
       "3    B    40  1600\n",
       "4    A    50  2500"
      ]
     },
     "execution_count": 160,
     "metadata": {},
     "output_type": "execute_result"
    }
   ],
   "source": [
    "# sense Lambda\n",
    "data_6 = {'Grup': ['A', 'B', 'A', 'B', 'A'], 'Col1': [10, 20, 30, 40, 50]}\n",
    "df_6=pd.DataFrame(data_6)\n",
    "\n",
    "df_6['Col2']=(df_6['Col1'])**2\n",
    "df_6"
   ]
  }
 ],
 "metadata": {
  "kernelspec": {
   "display_name": "Python 3 (ipykernel)",
   "language": "python",
   "name": "python3"
  },
  "language_info": {
   "codemirror_mode": {
    "name": "ipython",
    "version": 3
   },
   "file_extension": ".py",
   "mimetype": "text/x-python",
   "name": "python",
   "nbconvert_exporter": "python",
   "pygments_lexer": "ipython3",
   "version": "3.9.13"
  }
 },
 "nbformat": 4,
 "nbformat_minor": 5
}
